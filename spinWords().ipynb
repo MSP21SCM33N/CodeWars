{
 "cells": [
  {
   "cell_type": "code",
   "execution_count": 10,
   "metadata": {
    "collapsed": true
   },
   "outputs": [],
   "source": [
    "#Write a function that takes in a string of one or more words, and returns the same string, but with all five or more letter words reversed (Just like the name of this Kata). Strings passed in will consist of only letters and spaces. Spaces will be included only when more than one word is present.\n",
    "\n",
    "\n",
    "#Examples:\n",
    "\n",
    "#spinWords( \"Hey fellow warriors\" ) => returns \"Hey wollef sroirraw\" \n",
    "#spinWords( \"This is a test\") => returns \"This is a test\" \n",
    "#spinWords( \"This is another test\" )=> returns \"This is rehtona test\"\n",
    "\n",
    "\n",
    "def spin_words(sentence):\n",
    "    new2_list = [] \n",
    "    list = sentence.split() \n",
    "    for word in list:\n",
    "        if len(word) >= 5: \n",
    "            index_element = list.index(word)\n",
    "            new2_list.append(list[index_element][::-1]) \n",
    "\n",
    "        elif len(word) < 5:\n",
    "            new2_list.append(word)\n",
    "        else:\n",
    "            return\n",
    "        \n",
    "    return \" \".join(new2_list) "
   ]
  },
  {
   "cell_type": "code",
   "execution_count": null,
   "metadata": {
    "collapsed": true
   },
   "outputs": [],
   "source": []
  }
 ],
 "metadata": {
  "kernelspec": {
   "display_name": "Python 3",
   "language": "python",
   "name": "python3"
  },
  "language_info": {
   "codemirror_mode": {
    "name": "ipython",
    "version": 3
   },
   "file_extension": ".py",
   "mimetype": "text/x-python",
   "name": "python",
   "nbconvert_exporter": "python",
   "pygments_lexer": "ipython3",
   "version": "3.6.1"
  }
 },
 "nbformat": 4,
 "nbformat_minor": 2
}
