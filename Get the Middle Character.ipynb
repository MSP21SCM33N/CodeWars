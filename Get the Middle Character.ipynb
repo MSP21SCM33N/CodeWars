{
 "cells": [
  {
   "cell_type": "code",
   "execution_count": 1,
   "metadata": {
    "collapsed": true
   },
   "outputs": [],
   "source": [
    "#You are going to be given a word. Your job is to return the middle character of the word. If the word's length is odd, return the middle character. If the word's length is even, return the middle 2 characters.\n",
    "\n",
    "#Examples:\n",
    "\n",
    "#runBF(\"test\\0\") should return \"es\"\n",
    "\n",
    "#runBF(\"testing\\0\") should return \"t\"\n",
    "\n",
    "#runBF(\"middle\\0\") should return \"dd\"\n",
    "\n",
    "#runBF(\"A\\0\") should return \"A\"\n",
    "#Input\n",
    "\n",
    "#A word (string) of length 0 < str < 200 For BF, all the input strings end with \"\\0\". You do not need to test for this. This is only here to tell you that you do not need to worry about your solution timing out.\n",
    "\n",
    "#Output\n",
    "\n",
    "#The middle character(s) of the word represented as a string."
   ]
  },
  {
   "cell_type": "code",
   "execution_count": null,
   "metadata": {
    "collapsed": true
   },
   "outputs": [],
   "source": [
    "def get_middle(s):\n",
    "    if len(s) % 2 != 0:          # Using the module sign gives a remainder, if the remainder does not equal 0, it's odd\n",
    "        x = len(s)/2 + 0.5       # To get the middle character, divide the length of the string in half and add .5\n",
    "        return s[int(x)]         # Type cast x into an int, plug it into the string index and you have the middle character.\n",
    "        \n",
    "    elif len(s) % 2 ==0:        # If equivalent, we need to pull 2 middle characters\n",
    "        x = len(s)/2 + 1        # We add one because the string index goes from 0 to n - 1.\n",
    "        y = len(s)/2 -1         # We subtract one to get the middle value to the left of the first one.\n",
    "        return s[int(y):int(x)] # Using string notation, start at y and go up to but not including x.\n",
    "        \n",
    "    else:\n",
    "        return "
   ]
  }
 ],
 "metadata": {
  "kernelspec": {
   "display_name": "Python 3",
   "language": "python",
   "name": "python3"
  },
  "language_info": {
   "codemirror_mode": {
    "name": "ipython",
    "version": 3
   },
   "file_extension": ".py",
   "mimetype": "text/x-python",
   "name": "python",
   "nbconvert_exporter": "python",
   "pygments_lexer": "ipython3",
   "version": "3.6.1"
  }
 },
 "nbformat": 4,
 "nbformat_minor": 2
}
